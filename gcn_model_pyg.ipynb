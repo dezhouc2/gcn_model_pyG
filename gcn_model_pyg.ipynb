{
 "cells": [
  {
   "cell_type": "markdown",
   "id": "8b245fb7",
   "metadata": {},
   "source": []
  },
  {
   "cell_type": "code",
   "execution_count": 7,
   "id": "fbf3e28f",
   "metadata": {
    "scrolled": true
   },
   "outputs": [],
   "source": [
    "##import torch and geometric libraries and packages\n",
    "\n",
    "import numpy as np\n",
    "import torch\n",
    "import torch.nn as nn\n",
    "import torch.nn.functional as F\n",
    "import torch.utils.data as data\n",
    "from torch_geometric.datasets import Planetoid\n",
    "from torch_geometric.nn import GATConv\n",
    "from torch_geometric.utils import to_networkx\n",
    "import networkx as nx\n"
   ]
  },
  {
   "cell_type": "code",
   "execution_count": null,
   "id": "e07e9f9f",
   "metadata": {},
   "outputs": [],
   "source": [
    "##gcn paper\n",
    "https://arxiv.org/pdf/1609.02907.pdf"
   ]
  },
  {
   "cell_type": "code",
   "execution_count": 55,
   "id": "33436358",
   "metadata": {
    "scrolled": true
   },
   "outputs": [],
   "source": [
    "##download datasets\n",
    "##define device\n",
    "dataset_cora = Planetoid(root=\"./data/Cora\", name='Cora')\n",
    "\n",
    "device = torch.device('cuda' if torch.cuda.is_available() else 'cpu')\n",
    "data = dataset[0].to(device)"
   ]
  },
  {
   "cell_type": "code",
   "execution_count": 37,
   "id": "e980424d",
   "metadata": {},
   "outputs": [
    {
     "name": "stdout",
     "output_type": "stream",
     "text": [
      "<class 'torch_geometric.datasets.planetoid.Planetoid'>\n",
      "<class 'torch_geometric.data.data.Data'>\n",
      "<class 'torch_geometric.data.data.Data'>\n",
      "Data(x=[2708, 1433], edge_index=[2, 10556], y=[2708], train_mask=[2708], val_mask=[2708], test_mask=[2708])\n",
      "Data(x=[2708, 1433], edge_index=[2, 10556], y=[2708], train_mask=[2708], val_mask=[2708], test_mask=[2708])\n",
      "['y', 'x', 'test_mask', 'val_mask', 'edge_index', 'train_mask']\n"
     ]
    }
   ],
   "source": [
    "##lets's dig into the properties of cora\n",
    "print(type(dataset_cora))\n",
    "print(type(dataset_cora[0]))\n",
    "print(type(dataset_cora.data))\n",
    "print(dataset_cora[0])\n",
    "print(dataset_cora.data)\n",
    "print(dataset_cora.data.keys)"
   ]
  },
  {
   "cell_type": "code",
   "execution_count": 20,
   "id": "b899ce76",
   "metadata": {},
   "outputs": [
    {
     "name": "stdout",
     "output_type": "stream",
     "text": [
      "True\n"
     ]
    }
   ],
   "source": [
    "##check if it's directed graph\n",
    "print(cora.is_directed())\n"
   ]
  },
  {
   "cell_type": "code",
   "execution_count": 38,
   "id": "b4209e86",
   "metadata": {},
   "outputs": [
    {
     "name": "stdout",
     "output_type": "stream",
     "text": [
      "[3 4 4 ... 3 3 3]\n",
      "7\n",
      "1433\n"
     ]
    }
   ],
   "source": [
    "##check nodes within each of the classes/classifications in cora dataset\n",
    "##number of classes within cora\n",
    "##number of node features within cora, each of node features is 1433\n",
    "node_classes = dataset_cora.data.y.data.numpy()\n",
    "print(node_classes)\n",
    "print(dataset_cora.num_classes)\n",
    "print(dataset_cora.num_node_features)"
   ]
  },
  {
   "cell_type": "code",
   "execution_count": 64,
   "id": "496dcf68",
   "metadata": {},
   "outputs": [],
   "source": [
    "##define training function\n",
    "\n",
    "def train(model, data, optimizer):\n",
    "    model.train()\n",
    "    optimizer.zero_grad()\n",
    "    out = model(data)\n",
    "    loss = F.nll_loss(out[data.train_mask], data.y[data.train_mask])\n",
    "    loss.backward()\n",
    "    optimizer.step()\n",
    "    \n",
    "    return loss.item()"
   ]
  },
  {
   "cell_type": "code",
   "execution_count": 65,
   "id": "f2861a07",
   "metadata": {},
   "outputs": [],
   "source": [
    "##define testing function\n",
    "\n",
    "@torch.no_grad()\n",
    "def test(model, data):\n",
    "    model.eval()\n",
    "\n",
    "    _, pred = model(data).max(dim = 1)\n",
    "\n",
    "    correct_train = pred[data.train_mask].eq(data.y[data.train_mask]).sum().item()\n",
    "    acc_train = correct_train / data.train_mask.sum().item()\n",
    "\n",
    "    correct_val = pred[data.val_mask].eq(data.y[data.val_mask]).sum().item()\n",
    "    acc_val = correct_val / data.val_mask.sum().item()\n",
    "\n",
    "    correct_test = pred[data.test_mask].eq(data.y[data.test_mask]).sum().item()\n",
    "    acc_test = correct_test / data.test_mask.sum().item()\n",
    "\n",
    "    return acc_train, acc_val, acc_test"
   ]
  },
  {
   "cell_type": "code",
   "execution_count": 59,
   "id": "d1c26f5c",
   "metadata": {},
   "outputs": [],
   "source": [
    "##define an interactive data viz function\n",
    "##but only regard as a way to examine if the model is overfitting\n",
    "\n",
    "def live_plot(model, epoch_num=100):\n",
    "    from livelossplot import PlotLosses\n",
    "    liveloss = PlotLosses()\n",
    "\n",
    "    model = model.to(device)\n",
    "    optimizer = torch.optim.Adam(model.parameters(), lr=0.01, weight_decay=5e-4)\n",
    "\n",
    "    for epoch in range(epoch_num):\n",
    "        loss = train(model, dataset[0], optimizer)\n",
    "        acc_train, acc_val, acc_test = test(model, dataset[0])\n",
    "\n",
    "        logs = {\n",
    "            'loss': loss,\n",
    "            'acc_val': acc_val,\n",
    "            'acc_test': acc_test,\n",
    "        }\n",
    "        liveloss.update(logs)\n",
    "        liveloss.send()"
   ]
  },
  {
   "cell_type": "code",
   "execution_count": 60,
   "id": "387eae99",
   "metadata": {},
   "outputs": [],
   "source": [
    "##define a function to convert data into adjacent matrix\n",
    "def convert_data_to_adj(data):\n",
    "    from torch_geometric.utils import to_dense_adj\n",
    "    feature, edge_index = data.x, data.edge_index\n",
    "    adj = torch.squeeze(to_dense_adj(edge_index))\n",
    "    return feature, adj"
   ]
  },
  {
   "cell_type": "code",
   "execution_count": 61,
   "id": "e756c867",
   "metadata": {},
   "outputs": [],
   "source": [
    "## graph convolution model\n",
    "\n",
    "from torch.nn.parameter import Parameter\n",
    "from torch.nn.modules.module import Module\n",
    "\n",
    "class GraphConvolution(Module):\n",
    "    \n",
    "    def __init__(self, in_features, out_features, bias=True):\n",
    "        super(GraphConvolution, self).__init__()\n",
    "        self.in_features = in_features\n",
    "        self.out_features = out_features\n",
    "        self.weight = Parameter(torch.FloatTensor(in_features, out_features))\n",
    "        if bias:\n",
    "            self.bias = Parameter(torch.FloatTensor(out_features))\n",
    "        else:\n",
    "            self.register_parameter('bias', None)\n",
    "        self.reset_parameters()\n",
    "        \n",
    "    def reset_parameters(self):\n",
    "        stdv = 1. / np.sqrt(self.weight.size(1))\n",
    "        self.weight.data.uniform_(-stdv, stdv)\n",
    "        if self.bias is not None:\n",
    "            self.bias.data.uniform_(-stdv, stdv)\n",
    "            \n",
    "    def forward(self, data):\n",
    "        input, adj = convert_data_to_adj(data)\n",
    "        support = torch.mm(input, self.weight)\n",
    "        output = torch.spmm(adj, support)\n",
    "        if self.bias is not None:\n",
    "            return output + self.bias\n",
    "        else:\n",
    "            return output\n",
    "        \n",
    "    def __repr__(self):\n",
    "        return self.__class__.__name__ + ' (' \\\n",
    "               + str(self.in_features) + ' -> ' \\\n",
    "               + str(self.out_features) + ')'\n",
    "    "
   ]
  },
  {
   "cell_type": "code",
   "execution_count": 68,
   "id": "a766baf8",
   "metadata": {},
   "outputs": [
    {
     "data": {
      "image/png": "[encoded data removed]",
      "text/plain": [
       "<Figure size 864x864 with 4 Axes>"
      ]
     },
     "metadata": {
      "needs_background": "light"
     },
     "output_type": "display_data"
    },
    {
     "name": "stdout",
     "output_type": "stream",
     "text": [
      "acc_test\n",
      "\tacc_test         \t (min:    0.124, max:    0.547, cur:    0.547)\n",
      "acc_val\n",
      "\tacc_val          \t (min:    0.124, max:    0.504, cur:    0.500)\n",
      "Loss\n",
      "\tloss             \t (min:  -85.376, max:   -1.058, cur:  -85.376)\n"
     ]
    }
   ],
   "source": [
    "##output and data viz to see accuracy in test, in validation performance and loss performance respectively\n",
    "\n",
    "gcn_model = GraphConvolution(dataset_cora.num_features, dataset_cora.num_classes)\n",
    "live_plot(gcn_model, epoch_num = 100)"
   ]
  },
  {
   "cell_type": "code",
   "execution_count": null,
   "id": "357502f2",
   "metadata": {},
   "outputs": [],
   "source": []
  }
 ],
 "metadata": {
  "kernelspec": {
   "display_name": "Python 3",
   "language": "python",
   "name": "python3"
  },
  "language_info": {
   "codemirror_mode": {
    "name": "ipython",
    "version": 3
   },
   "file_extension": ".py",
   "mimetype": "text/x-python",
   "name": "python",
   "nbconvert_exporter": "python",
   "pygments_lexer": "ipython3",
   "version": "3.8.8"
  }
 },
 "nbformat": 4,
 "nbformat_minor": 5
}
