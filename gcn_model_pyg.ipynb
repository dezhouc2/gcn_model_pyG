{
 "cells": [
  {
   "cell_type": "code",
   "execution_count": 7,
   "id": "fbf3e28f",
   "metadata": {
    "scrolled": true
   },
   "outputs": [],
   "source": [
    "##import torch and geometric libraries and packages\n",
    "\n",
    "import numpy as np\n",
    "import torch\n",
    "import torch.nn as nn\n",
    "import torch.nn.functional as F\n",
    "import torch.utils.data as data\n",
    "from torch_geometric.datasets import Planetoid\n",
    "from torch_geometric.nn import GATConv\n"
   ]
  },
  {
   "cell_type": "code",
   "execution_count": 13,
   "id": "94c6cebf",
   "metadata": {},
   "outputs": [],
   "source": [
    "from torch_geometric.utils import to_networkx"
   ]
  },
  {
   "cell_type": "code",
   "execution_count": 18,
   "id": "33436358",
   "metadata": {
    "scrolled": true
   },
   "outputs": [],
   "source": [
    "##download datasets\n",
    "dataset_cora = Planetoid(root=\"./data/Cora\", name='Cora')"
   ]
  },
  {
   "cell_type": "markdown",
   "id": "ea48b11d",
   "metadata": {},
   "source": [
    "##interactive data visualization to get insights from \"cora\" dataset\n"
   ]
  },
  {
   "cell_type": "code",
   "execution_count": 19,
   "id": "f9524e3f",
   "metadata": {},
   "outputs": [],
   "source": [
    "##transfer cora dataset to network format\n",
    "cora = to_networkx(dataset_cora.data)"
   ]
  },
  {
   "cell_type": "code",
   "execution_count": 20,
   "id": "f6e9ce56",
   "metadata": {},
   "outputs": [
    {
     "name": "stdout",
     "output_type": "stream",
     "text": [
      "True\n"
     ]
    }
   ],
   "source": [
    "##check if it's directed graph\n",
    "print(cora.is_directed())\n"
   ]
  },
  {
   "cell_type": "code",
   "execution_count": 22,
   "id": "e1eebb48",
   "metadata": {},
   "outputs": [
    {
     "name": "stdout",
     "output_type": "stream",
     "text": [
      "[3 4 4 ... 3 3 3]\n"
     ]
    }
   ],
   "source": [
    "##check how mang classes in cora dataset\n",
    "node_classes = dataset_cora.data.y.data.numpy()\n",
    "print(node_classes)"
   ]
  },
  {
   "cell_type": "code",
   "execution_count": null,
   "id": "ca38f9f0",
   "metadata": {},
   "outputs": [],
   "source": []
  }
 ],
 "metadata": {
  "kernelspec": {
   "display_name": "Python 3",
   "language": "python",
   "name": "python3"
  },
  "language_info": {
   "codemirror_mode": {
    "name": "ipython",
    "version": 3
   },
   "file_extension": ".py",
   "mimetype": "text/x-python",
   "name": "python",
   "nbconvert_exporter": "python",
   "pygments_lexer": "ipython3",
   "version": "3.8.8"
  }
 },
 "nbformat": 4,
 "nbformat_minor": 5
}
